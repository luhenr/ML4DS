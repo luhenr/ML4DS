{
  "cells": [
    {
      "cell_type": "code",
      "execution_count": null,
      "metadata": {
        "id": "M29UC0-aJgCs"
      },
      "outputs": [],
      "source": [
        "!pip install catboost\n",
        "!pip install --upgrade tensorflow\n",
        "!pip install keras-tuner\n",
        "!pip install tensorflow-gpu\n",
        "!pip install tensorflow_addons"
      ]
    },
    {
      "cell_type": "code",
      "execution_count": null,
      "metadata": {
        "colab": {
          "base_uri": "https://localhost:8080/"
        },
        "id": "c1Qa8gHVlJ-V",
        "outputId": "a158d0ab-f236-4cbc-843b-e3a1f99c94eb"
      },
      "outputs": [
        {
          "output_type": "stream",
          "name": "stdout",
          "text": [
            "Fri Dec 22 17:44:28 2023       \n",
            "+---------------------------------------------------------------------------------------+\n",
            "| NVIDIA-SMI 535.104.05             Driver Version: 535.104.05   CUDA Version: 12.2     |\n",
            "|-----------------------------------------+----------------------+----------------------+\n",
            "| GPU  Name                 Persistence-M | Bus-Id        Disp.A | Volatile Uncorr. ECC |\n",
            "| Fan  Temp   Perf          Pwr:Usage/Cap |         Memory-Usage | GPU-Util  Compute M. |\n",
            "|                                         |                      |               MIG M. |\n",
            "|=========================================+======================+======================|\n",
            "|   0  Tesla T4                       Off | 00000000:00:04.0 Off |                    0 |\n",
            "| N/A   37C    P8               9W /  70W |      0MiB / 15360MiB |      0%      Default |\n",
            "|                                         |                      |                  N/A |\n",
            "+-----------------------------------------+----------------------+----------------------+\n",
            "                                                                                         \n",
            "+---------------------------------------------------------------------------------------+\n",
            "| Processes:                                                                            |\n",
            "|  GPU   GI   CI        PID   Type   Process name                            GPU Memory |\n",
            "|        ID   ID                                                             Usage      |\n",
            "|=======================================================================================|\n",
            "|  No running processes found                                                           |\n",
            "+---------------------------------------------------------------------------------------+\n"
          ]
        }
      ],
      "source": [
        "!nvidia-smi"
      ]
    },
    {
      "cell_type": "code",
      "execution_count": null,
      "metadata": {
        "id": "oy74x5AA3Bd2"
      },
      "outputs": [],
      "source": [
        "import pandas as pd\n",
        "from sklearn.model_selection import train_test_split\n",
        "from imblearn.over_sampling import SMOTE\n",
        "from sklearn.preprocessing import StandardScaler\n",
        "from sklearn.pipeline import Pipeline\n",
        "from sklearn.utils.metaestimators import if_delegate_has_method\n",
        "from sklearn.ensemble import RandomForestClassifier\n",
        "from sklearn.metrics import accuracy_score, classification_report, f1_score\n",
        "from lightgbm import LGBMClassifier\n",
        "from catboost import CatBoostClassifier\n",
        "from sklearn.neighbors import KNeighborsClassifier\n",
        "from sklearn.tree import DecisionTreeClassifier\n",
        "import numpy as np\n",
        "from scipy.stats import randint as sp_randint\n",
        "from scipy.stats import uniform\n",
        "from sklearn.preprocessing import LabelEncoder\n",
        "from sklearn.preprocessing import OneHotEncoder\n",
        "\n",
        "from sklearn.base import BaseEstimator, ClassifierMixin\n",
        "import tensorflow as tf\n",
        "from tensorflow.keras.models import Sequential\n",
        "from tensorflow.keras.layers import *\n",
        "from tensorflow.keras.optimizers import Adam\n",
        "from tensorflow.keras import backend as K\n",
        "from sklearn.decomposition import PCA\n",
        "from tensorflow.keras.callbacks import EarlyStopping\n",
        "#from tensorflow.keras.layers import Attention\n",
        "from kerastuner.tuners import RandomSearch\n",
        "from kerastuner import Objective\n",
        "from tensorflow.keras.callbacks import LearningRateScheduler\n",
        "from tensorflow.keras.mixed_precision import set_global_policy\n",
        "import tensorflow_addons as tfa\n",
        "from tensorflow.keras.metrics import AUC, Precision, Metric\n",
        "from tensorflow.keras.layers import Dense, LSTM, Conv1D, MaxPooling1D, Dropout, Flatten, BatchNormalization, Activation, GlobalAveragePooling1D\n",
        "from tensorflow.keras.regularizers import l2"
      ]
    },
    {
      "cell_type": "code",
      "execution_count": null,
      "metadata": {
        "id": "MEYyLxQV3VCa"
      },
      "outputs": [],
      "source": [
        "def load_data(filepath):\n",
        "    return pd.read_csv(filepath)"
      ]
    },
    {
      "cell_type": "code",
      "execution_count": null,
      "metadata": {
        "id": "-BhyWIBsipqr"
      },
      "outputs": [],
      "source": [
        "def preprocess_data(df, is_training_data=True):\n",
        "    df['Installation_zone'] = df['Installation_zone'].str.extract(r'(\\d+)$')\n",
        "    df['Installation_zone'] = df['Installation_zone'].astype(int)\n",
        "    if is_training_data:\n",
        "        df.drop('Consumer_number', axis=1, inplace=True)\n",
        "    return df"
      ]
    },
    {
      "cell_type": "code",
      "execution_count": null,
      "metadata": {
        "id": "9FWKO6M5EQ8v"
      },
      "outputs": [],
      "source": [
        "def identify_outliers(df, group_col, target_col):\n",
        "    Q1 = df.groupby(group_col)[target_col].quantile(0.25)\n",
        "    Q3 = df.groupby(group_col)[target_col].quantile(0.75)\n",
        "    IQR = Q3 - Q1\n",
        "    lower_bound = Q1 - 1.5 * IQR\n",
        "    upper_bound = Q3 + 1.5 * IQR\n",
        "\n",
        "    def is_outlier(row):\n",
        "        consumption = row[target_col]\n",
        "        type = row[group_col]\n",
        "        return (consumption < lower_bound[type]) | (consumption > upper_bound[type])\n",
        "\n",
        "    df['Outlier'] = df.apply(is_outlier, axis=1)\n",
        "    return df"
      ]
    },
    {
      "cell_type": "code",
      "execution_count": null,
      "metadata": {
        "id": "ZzbBisDhESaw"
      },
      "outputs": [],
      "source": [
        "def balance_classes(X, y):\n",
        "    smote = SMOTE(random_state=42, sampling_strategy='auto', n_jobs=-1, k_neighbors=1)\n",
        "    X_sm, y_sm = smote.fit_resample(X, y)\n",
        "    return X_sm, y_sm"
      ]
    },
    {
      "cell_type": "code",
      "execution_count": null,
      "metadata": {
        "id": "PJLZDVZnET__"
      },
      "outputs": [],
      "source": [
        "def split_data(X, y):\n",
        "    X_train, X_test, y_train, y_test = train_test_split(X, y, test_size=0.2, random_state=42, stratify=y)\n",
        "    X_train, X_val, y_train, y_val = train_test_split(X_train, y_train, test_size=0.1, random_state=42, stratify=y_train)\n",
        "    return X_train, X_val, X_test, y_train, y_val, y_test"
      ]
    },
    {
      "cell_type": "code",
      "execution_count": null,
      "metadata": {
        "id": "x6qRk2AvEVV-"
      },
      "outputs": [],
      "source": [
        "def scale_data(X_train, X_test):\n",
        "    scaler = StandardScaler()\n",
        "    ''' X_train_scaled = X_train.copy()\n",
        "    X_test_scaled = X_test.copy()\n",
        "    X_train_scaled['Consumption'] = scaler.fit_transform(X_train[['Consumption']])\n",
        "    X_test_scaled['Consumption'] = scaler.transform(X_test[['Consumption']])\n",
        "    X_train_scaled['Installation_zone'] = scaler.fit_transform(X_train[['Installation_zone']])\n",
        "    X_test_scaled['Installation_zone'] = scaler.transform(X_test[['Installation_zone']]) '''\n",
        "    X_train_scaled = scaler.fit_transform(X_train)\n",
        "    X_test_scaled = scaler.transform(X_test)\n",
        "\n",
        "    return X_train_scaled, X_test_scaled, scaler"
      ]
    },
    {
      "cell_type": "code",
      "execution_count": null,
      "metadata": {
        "id": "3Qf-BV7mEWm6"
      },
      "outputs": [],
      "source": [
        "def train_model(model, X_train, y_train):\n",
        "    model.fit(X_train, y_train)\n",
        "    return model"
      ]
    },
    {
      "cell_type": "code",
      "execution_count": null,
      "metadata": {
        "id": "EaQ_iC2EGmh-"
      },
      "outputs": [],
      "source": [
        "def evaluate_model(model, X_test, y_test):\n",
        "    y_pred = model.predict(X_test)\n",
        "    accuracy = accuracy_score(y_test, y_pred)\n",
        "    report = classification_report(y_test, y_pred)\n",
        "    return accuracy, report"
      ]
    },
    {
      "cell_type": "code",
      "execution_count": null,
      "metadata": {
        "id": "v5iE-mW24U2C"
      },
      "outputs": [],
      "source": [
        "def f1_score_macro(y_true, y_pred):\n",
        "    y_pred = tf.cast(K.argmax(y_pred, axis=-1), 'float32')\n",
        "    y_true = tf.cast(K.argmax(y_true, axis=-1), 'float32')\n",
        "\n",
        "    f1_scores = []\n",
        "    for i in range(num_classes):\n",
        "        actual_positives = K.sum(K.cast(K.equal(y_true, i), 'float32'))\n",
        "        predicted_positives = K.sum(K.cast(K.equal(y_pred, i), 'float32'))\n",
        "        true_positives = K.sum(K.cast(K.equal(y_true, i) & K.equal(y_pred, i), 'float32'))\n",
        "\n",
        "        precision = true_positives / (predicted_positives + K.epsilon())\n",
        "        recall = true_positives / (actual_positives + K.epsilon())\n",
        "\n",
        "        f1 = 2 * (precision * recall) / (precision + recall + K.epsilon())\n",
        "        f1_scores.append(f1)\n",
        "\n",
        "    f1_score_macro = K.mean(K.stack(f1_scores))\n",
        "\n",
        "    return f1_score_macro\n"
      ]
    },
    {
      "cell_type": "code",
      "source": [
        "class PipelineWithFitParams(Pipeline):\n",
        "    def fit(self, X, y=None, **fit_params):\n",
        "        fit_params_steps = self._check_fit_params(**fit_params)\n",
        "        for name, estimator in self.steps[:-1]:\n",
        "            if estimator is not None:\n",
        "                if fit_params_steps[name]:\n",
        "                    estimator.fit(X, y, **fit_params_steps[name])\n",
        "                else:\n",
        "                    estimator.fit(X, y)\n",
        "            if hasattr(estimator, 'transform'):\n",
        "                X = estimator.transform(X)\n",
        "        if fit_params_steps[self.steps[-1][0]]:\n",
        "            self.steps[-1][1].fit(X, y, **fit_params_steps[self.steps[-1][0]])\n",
        "        else:\n",
        "            self.steps[-1][1].fit(X, y)\n",
        "        return self\n",
        "\n",
        "    @if_delegate_has_method(delegate='_final_estimator')\n",
        "    def predict(self, X, **predict_params):\n",
        "        for name, transform in self.steps[:-1]:\n",
        "            if transform is not None:\n",
        "                X = transform.transform(X)\n",
        "        return self.steps[-1][1].predict(X, **predict_params)"
      ],
      "metadata": {
        "id": "kgJzZE_C0AbQ"
      },
      "execution_count": null,
      "outputs": []
    },
    {
      "cell_type": "code",
      "source": [
        "class Attention(Layer):\n",
        "    def __init__(self, **kwargs):\n",
        "        super(Attention, self).__init__(**kwargs)\n",
        "\n",
        "    def build(self, input_shape):\n",
        "        self.W = self.add_weight(name='attention_weight',\n",
        "                                 shape=(input_shape[-1], 1),\n",
        "                                 initializer='random_normal',\n",
        "                                 trainable=True)\n",
        "        self.b = self.add_weight(name='attention_bias',\n",
        "                                 shape=(input_shape[1], 1),\n",
        "                                 initializer='zeros',\n",
        "                                 trainable=True)\n",
        "        super(Attention, self).build(input_shape)\n",
        "\n",
        "    def call(self, x):\n",
        "        e = K.tanh(K.dot(x, self.W) + self.b)\n",
        "        a = K.softmax(e, axis=1)\n",
        "        output = x * a\n",
        "        return K.sum(output, axis=1)\n",
        "\n",
        "    def compute_output_shape(self, input_shape):\n",
        "        return (input_shape[0], input_shape[-1])"
      ],
      "metadata": {
        "id": "0BbWVmC7nH51"
      },
      "execution_count": null,
      "outputs": []
    },
    {
      "cell_type": "code",
      "execution_count": null,
      "metadata": {
        "id": "CSSfMFxsdGGy"
      },
      "outputs": [],
      "source": [
        "class KerasRNNClassifier(BaseEstimator, ClassifierMixin):\n",
        "    def __init__(self, input_shape, num_classes, epochs=10000, batch_size=4098):\n",
        "        self.model = Sequential()\n",
        "\n",
        "        self.model.add(Conv1D(filters=64, kernel_size=2, padding='same', activation='relu', input_shape=input_shape))\n",
        "        self.model.add(MaxPooling1D(pool_size=1))\n",
        "\n",
        "        self.model.add(LSTM(512, return_sequences=True))\n",
        "\n",
        "        self.model.add(GlobalAveragePooling1D())\n",
        "        self.model.add(Dropout(0.7))\n",
        "        self.model.add(Flatten())\n",
        "        self.model.add(Dense(256, activation='relu'))\n",
        "        self.model.add(Dense(num_classes, activation='softmax'))\n",
        "\n",
        "        self.model.compile(loss='sparse_categorical_crossentropy',\n",
        "                           optimizer=Adam(learning_rate=1e-5),\n",
        "                           metrics=[f1_score_macro])\n",
        "        self.epochs = epochs\n",
        "        self.batch_size = batch_size\n",
        "\n",
        "    def fit(self, X, y, validation_data=None):\n",
        "        early_stopping = EarlyStopping(monitor='val_loss', patience=100)\n",
        "        self.model.fit(X, y, epochs=self.epochs, batch_size=self.batch_size,\n",
        "                       validation_data=validation_data, callbacks=[early_stopping])\n",
        "\n",
        "    def predict(self, X):\n",
        "        predictions = self.model.predict(X)\n",
        "        return np.argmax(predictions, axis=1)"
      ]
    },
    {
      "cell_type": "code",
      "source": [
        "gpus = tf.config.list_physical_devices('GPU')\n",
        "print(\"GPUs Disponíveis:\", gpus)"
      ],
      "metadata": {
        "colab": {
          "base_uri": "https://localhost:8080/"
        },
        "id": "NNAdgGgdTyUT",
        "outputId": "0bfec39d-7159-49f4-bcd4-856368072111"
      },
      "execution_count": null,
      "outputs": [
        {
          "output_type": "stream",
          "name": "stdout",
          "text": [
            "GPUs Disponíveis: [PhysicalDevice(name='/physical_device:GPU:0', device_type='GPU')]\n"
          ]
        }
      ]
    },
    {
      "cell_type": "code",
      "source": [
        "#tf.config.set_visible_devices(gpus[0], 'GPU')"
      ],
      "metadata": {
        "id": "vB4PnsMhT1fI"
      },
      "execution_count": null,
      "outputs": []
    },
    {
      "cell_type": "code",
      "execution_count": null,
      "metadata": {
        "id": "q7qm7uVuEc09"
      },
      "outputs": [],
      "source": [
        "df = load_data(\"https://raw.githubusercontent.com/luhenr/ML4DS/main/train.csv\")"
      ]
    },
    {
      "cell_type": "code",
      "source": [
        "df_train = preprocess_data(df)"
      ],
      "metadata": {
        "id": "q9N3SThrahb1"
      },
      "execution_count": null,
      "outputs": []
    },
    {
      "cell_type": "code",
      "source": [
        "''' df_train['Spring'] = df_train['Month'].apply(lambda x: 1 if x in [3, 4, 5] else 0)\n",
        "df_train['Summer'] = df_train['Month'].apply(lambda x: 1 if x in [6, 7, 8] else 0)\n",
        "df_train['Autumn'] = df_train['Month'].apply(lambda x: 1 if x in [9, 10, 11] else 0)\n",
        "df_train['Winter'] = df_train['Month'].apply(lambda x: 1 if x in [12, 1, 2] else 0)\n",
        "\n",
        "df_train.drop(['Year', 'Month'], axis=1, inplace=True) '''"
      ],
      "metadata": {
        "id": "jRUsFNdVa2S2",
        "colab": {
          "base_uri": "https://localhost:8080/",
          "height": 53
        },
        "outputId": "bcfce5fb-f146-41de-f0d5-328e42099c57"
      },
      "execution_count": null,
      "outputs": [
        {
          "output_type": "execute_result",
          "data": {
            "text/plain": [
              "\" df_train['Spring'] = df_train['Month'].apply(lambda x: 1 if x in [3, 4, 5] else 0)\\ndf_train['Summer'] = df_train['Month'].apply(lambda x: 1 if x in [6, 7, 8] else 0)\\ndf_train['Autumn'] = df_train['Month'].apply(lambda x: 1 if x in [9, 10, 11] else 0)\\ndf_train['Winter'] = df_train['Month'].apply(lambda x: 1 if x in [12, 1, 2] else 0)\\n\\ndf_train.drop(['Year', 'Month'], axis=1, inplace=True) \""
            ],
            "application/vnd.google.colaboratory.intrinsic+json": {
              "type": "string"
            }
          },
          "metadata": {},
          "execution_count": 223
        }
      ]
    },
    {
      "cell_type": "code",
      "execution_count": null,
      "metadata": {
        "colab": {
          "base_uri": "https://localhost:8080/",
          "height": 206
        },
        "id": "TFPonOE8gESJ",
        "outputId": "2cbc7580-a2e1-417e-92d8-72d0e5a3661d"
      },
      "outputs": [
        {
          "output_type": "execute_result",
          "data": {
            "text/plain": [
              "   Year  Month Consumer_type  Consumption  Installation_zone\n",
              "0  2013      1      domestic            0                  1\n",
              "1  2013      1    industrial            5                  2\n",
              "2  2013      1      domestic            6                  2\n",
              "3  2013      1      domestic            1                  2\n",
              "4  2013      1      domestic           13                  2"
            ],
            "text/html": [
              "\n",
              "  <div id=\"df-84745c57-6d27-4651-97f1-a8313b9af567\" class=\"colab-df-container\">\n",
              "    <div>\n",
              "<style scoped>\n",
              "    .dataframe tbody tr th:only-of-type {\n",
              "        vertical-align: middle;\n",
              "    }\n",
              "\n",
              "    .dataframe tbody tr th {\n",
              "        vertical-align: top;\n",
              "    }\n",
              "\n",
              "    .dataframe thead th {\n",
              "        text-align: right;\n",
              "    }\n",
              "</style>\n",
              "<table border=\"1\" class=\"dataframe\">\n",
              "  <thead>\n",
              "    <tr style=\"text-align: right;\">\n",
              "      <th></th>\n",
              "      <th>Year</th>\n",
              "      <th>Month</th>\n",
              "      <th>Consumer_type</th>\n",
              "      <th>Consumption</th>\n",
              "      <th>Installation_zone</th>\n",
              "    </tr>\n",
              "  </thead>\n",
              "  <tbody>\n",
              "    <tr>\n",
              "      <th>0</th>\n",
              "      <td>2013</td>\n",
              "      <td>1</td>\n",
              "      <td>domestic</td>\n",
              "      <td>0</td>\n",
              "      <td>1</td>\n",
              "    </tr>\n",
              "    <tr>\n",
              "      <th>1</th>\n",
              "      <td>2013</td>\n",
              "      <td>1</td>\n",
              "      <td>industrial</td>\n",
              "      <td>5</td>\n",
              "      <td>2</td>\n",
              "    </tr>\n",
              "    <tr>\n",
              "      <th>2</th>\n",
              "      <td>2013</td>\n",
              "      <td>1</td>\n",
              "      <td>domestic</td>\n",
              "      <td>6</td>\n",
              "      <td>2</td>\n",
              "    </tr>\n",
              "    <tr>\n",
              "      <th>3</th>\n",
              "      <td>2013</td>\n",
              "      <td>1</td>\n",
              "      <td>domestic</td>\n",
              "      <td>1</td>\n",
              "      <td>2</td>\n",
              "    </tr>\n",
              "    <tr>\n",
              "      <th>4</th>\n",
              "      <td>2013</td>\n",
              "      <td>1</td>\n",
              "      <td>domestic</td>\n",
              "      <td>13</td>\n",
              "      <td>2</td>\n",
              "    </tr>\n",
              "  </tbody>\n",
              "</table>\n",
              "</div>\n",
              "    <div class=\"colab-df-buttons\">\n",
              "\n",
              "  <div class=\"colab-df-container\">\n",
              "    <button class=\"colab-df-convert\" onclick=\"convertToInteractive('df-84745c57-6d27-4651-97f1-a8313b9af567')\"\n",
              "            title=\"Convert this dataframe to an interactive table.\"\n",
              "            style=\"display:none;\">\n",
              "\n",
              "  <svg xmlns=\"http://www.w3.org/2000/svg\" height=\"24px\" viewBox=\"0 -960 960 960\">\n",
              "    <path d=\"M120-120v-720h720v720H120Zm60-500h600v-160H180v160Zm220 220h160v-160H400v160Zm0 220h160v-160H400v160ZM180-400h160v-160H180v160Zm440 0h160v-160H620v160ZM180-180h160v-160H180v160Zm440 0h160v-160H620v160Z\"/>\n",
              "  </svg>\n",
              "    </button>\n",
              "\n",
              "  <style>\n",
              "    .colab-df-container {\n",
              "      display:flex;\n",
              "      gap: 12px;\n",
              "    }\n",
              "\n",
              "    .colab-df-convert {\n",
              "      background-color: #E8F0FE;\n",
              "      border: none;\n",
              "      border-radius: 50%;\n",
              "      cursor: pointer;\n",
              "      display: none;\n",
              "      fill: #1967D2;\n",
              "      height: 32px;\n",
              "      padding: 0 0 0 0;\n",
              "      width: 32px;\n",
              "    }\n",
              "\n",
              "    .colab-df-convert:hover {\n",
              "      background-color: #E2EBFA;\n",
              "      box-shadow: 0px 1px 2px rgba(60, 64, 67, 0.3), 0px 1px 3px 1px rgba(60, 64, 67, 0.15);\n",
              "      fill: #174EA6;\n",
              "    }\n",
              "\n",
              "    .colab-df-buttons div {\n",
              "      margin-bottom: 4px;\n",
              "    }\n",
              "\n",
              "    [theme=dark] .colab-df-convert {\n",
              "      background-color: #3B4455;\n",
              "      fill: #D2E3FC;\n",
              "    }\n",
              "\n",
              "    [theme=dark] .colab-df-convert:hover {\n",
              "      background-color: #434B5C;\n",
              "      box-shadow: 0px 1px 3px 1px rgba(0, 0, 0, 0.15);\n",
              "      filter: drop-shadow(0px 1px 2px rgba(0, 0, 0, 0.3));\n",
              "      fill: #FFFFFF;\n",
              "    }\n",
              "  </style>\n",
              "\n",
              "    <script>\n",
              "      const buttonEl =\n",
              "        document.querySelector('#df-84745c57-6d27-4651-97f1-a8313b9af567 button.colab-df-convert');\n",
              "      buttonEl.style.display =\n",
              "        google.colab.kernel.accessAllowed ? 'block' : 'none';\n",
              "\n",
              "      async function convertToInteractive(key) {\n",
              "        const element = document.querySelector('#df-84745c57-6d27-4651-97f1-a8313b9af567');\n",
              "        const dataTable =\n",
              "          await google.colab.kernel.invokeFunction('convertToInteractive',\n",
              "                                                    [key], {});\n",
              "        if (!dataTable) return;\n",
              "\n",
              "        const docLinkHtml = 'Like what you see? Visit the ' +\n",
              "          '<a target=\"_blank\" href=https://colab.research.google.com/notebooks/data_table.ipynb>data table notebook</a>'\n",
              "          + ' to learn more about interactive tables.';\n",
              "        element.innerHTML = '';\n",
              "        dataTable['output_type'] = 'display_data';\n",
              "        await google.colab.output.renderOutput(dataTable, element);\n",
              "        const docLink = document.createElement('div');\n",
              "        docLink.innerHTML = docLinkHtml;\n",
              "        element.appendChild(docLink);\n",
              "      }\n",
              "    </script>\n",
              "  </div>\n",
              "\n",
              "\n",
              "<div id=\"df-14b541be-5f5d-4aae-ad7c-ded0c485209e\">\n",
              "  <button class=\"colab-df-quickchart\" onclick=\"quickchart('df-14b541be-5f5d-4aae-ad7c-ded0c485209e')\"\n",
              "            title=\"Suggest charts\"\n",
              "            style=\"display:none;\">\n",
              "\n",
              "<svg xmlns=\"http://www.w3.org/2000/svg\" height=\"24px\"viewBox=\"0 0 24 24\"\n",
              "     width=\"24px\">\n",
              "    <g>\n",
              "        <path d=\"M19 3H5c-1.1 0-2 .9-2 2v14c0 1.1.9 2 2 2h14c1.1 0 2-.9 2-2V5c0-1.1-.9-2-2-2zM9 17H7v-7h2v7zm4 0h-2V7h2v10zm4 0h-2v-4h2v4z\"/>\n",
              "    </g>\n",
              "</svg>\n",
              "  </button>\n",
              "\n",
              "<style>\n",
              "  .colab-df-quickchart {\n",
              "      --bg-color: #E8F0FE;\n",
              "      --fill-color: #1967D2;\n",
              "      --hover-bg-color: #E2EBFA;\n",
              "      --hover-fill-color: #174EA6;\n",
              "      --disabled-fill-color: #AAA;\n",
              "      --disabled-bg-color: #DDD;\n",
              "  }\n",
              "\n",
              "  [theme=dark] .colab-df-quickchart {\n",
              "      --bg-color: #3B4455;\n",
              "      --fill-color: #D2E3FC;\n",
              "      --hover-bg-color: #434B5C;\n",
              "      --hover-fill-color: #FFFFFF;\n",
              "      --disabled-bg-color: #3B4455;\n",
              "      --disabled-fill-color: #666;\n",
              "  }\n",
              "\n",
              "  .colab-df-quickchart {\n",
              "    background-color: var(--bg-color);\n",
              "    border: none;\n",
              "    border-radius: 50%;\n",
              "    cursor: pointer;\n",
              "    display: none;\n",
              "    fill: var(--fill-color);\n",
              "    height: 32px;\n",
              "    padding: 0;\n",
              "    width: 32px;\n",
              "  }\n",
              "\n",
              "  .colab-df-quickchart:hover {\n",
              "    background-color: var(--hover-bg-color);\n",
              "    box-shadow: 0 1px 2px rgba(60, 64, 67, 0.3), 0 1px 3px 1px rgba(60, 64, 67, 0.15);\n",
              "    fill: var(--button-hover-fill-color);\n",
              "  }\n",
              "\n",
              "  .colab-df-quickchart-complete:disabled,\n",
              "  .colab-df-quickchart-complete:disabled:hover {\n",
              "    background-color: var(--disabled-bg-color);\n",
              "    fill: var(--disabled-fill-color);\n",
              "    box-shadow: none;\n",
              "  }\n",
              "\n",
              "  .colab-df-spinner {\n",
              "    border: 2px solid var(--fill-color);\n",
              "    border-color: transparent;\n",
              "    border-bottom-color: var(--fill-color);\n",
              "    animation:\n",
              "      spin 1s steps(1) infinite;\n",
              "  }\n",
              "\n",
              "  @keyframes spin {\n",
              "    0% {\n",
              "      border-color: transparent;\n",
              "      border-bottom-color: var(--fill-color);\n",
              "      border-left-color: var(--fill-color);\n",
              "    }\n",
              "    20% {\n",
              "      border-color: transparent;\n",
              "      border-left-color: var(--fill-color);\n",
              "      border-top-color: var(--fill-color);\n",
              "    }\n",
              "    30% {\n",
              "      border-color: transparent;\n",
              "      border-left-color: var(--fill-color);\n",
              "      border-top-color: var(--fill-color);\n",
              "      border-right-color: var(--fill-color);\n",
              "    }\n",
              "    40% {\n",
              "      border-color: transparent;\n",
              "      border-right-color: var(--fill-color);\n",
              "      border-top-color: var(--fill-color);\n",
              "    }\n",
              "    60% {\n",
              "      border-color: transparent;\n",
              "      border-right-color: var(--fill-color);\n",
              "    }\n",
              "    80% {\n",
              "      border-color: transparent;\n",
              "      border-right-color: var(--fill-color);\n",
              "      border-bottom-color: var(--fill-color);\n",
              "    }\n",
              "    90% {\n",
              "      border-color: transparent;\n",
              "      border-bottom-color: var(--fill-color);\n",
              "    }\n",
              "  }\n",
              "</style>\n",
              "\n",
              "  <script>\n",
              "    async function quickchart(key) {\n",
              "      const quickchartButtonEl =\n",
              "        document.querySelector('#' + key + ' button');\n",
              "      quickchartButtonEl.disabled = true;  // To prevent multiple clicks.\n",
              "      quickchartButtonEl.classList.add('colab-df-spinner');\n",
              "      try {\n",
              "        const charts = await google.colab.kernel.invokeFunction(\n",
              "            'suggestCharts', [key], {});\n",
              "      } catch (error) {\n",
              "        console.error('Error during call to suggestCharts:', error);\n",
              "      }\n",
              "      quickchartButtonEl.classList.remove('colab-df-spinner');\n",
              "      quickchartButtonEl.classList.add('colab-df-quickchart-complete');\n",
              "    }\n",
              "    (() => {\n",
              "      let quickchartButtonEl =\n",
              "        document.querySelector('#df-14b541be-5f5d-4aae-ad7c-ded0c485209e button');\n",
              "      quickchartButtonEl.style.display =\n",
              "        google.colab.kernel.accessAllowed ? 'block' : 'none';\n",
              "    })();\n",
              "  </script>\n",
              "</div>\n",
              "\n",
              "    </div>\n",
              "  </div>\n"
            ]
          },
          "metadata": {},
          "execution_count": 224
        }
      ],
      "source": [
        "df_train.head()"
      ]
    },
    {
      "cell_type": "code",
      "source": [
        "df_train.shape"
      ],
      "metadata": {
        "colab": {
          "base_uri": "https://localhost:8080/"
        },
        "id": "olX5wAOfQ8c9",
        "outputId": "0574e14f-97af-418b-d219-acb42a509dd4"
      },
      "execution_count": null,
      "outputs": [
        {
          "output_type": "execute_result",
          "data": {
            "text/plain": [
              "(329975, 5)"
            ]
          },
          "metadata": {},
          "execution_count": 225
        }
      ]
    },
    {
      "cell_type": "code",
      "execution_count": null,
      "metadata": {
        "id": "EY54kJ8ZEfLc"
      },
      "outputs": [],
      "source": [
        "X = df_train.drop(['Consumer_type'], axis=1)\n",
        "y = df_train['Consumer_type']"
      ]
    },
    {
      "cell_type": "code",
      "execution_count": null,
      "metadata": {
        "colab": {
          "base_uri": "https://localhost:8080/"
        },
        "id": "sDCbf2tME-Ox",
        "outputId": "8f3ca634-750c-437d-a367-7f48e4557d52"
      },
      "outputs": [
        {
          "output_type": "stream",
          "name": "stderr",
          "text": [
            "/usr/local/lib/python3.10/dist-packages/imblearn/over_sampling/_smote/base.py:336: FutureWarning: The parameter `n_jobs` has been deprecated in 0.10 and will be removed in 0.12. You can pass an nearest neighbors estimator where `n_jobs` is already set instead.\n",
            "  warnings.warn(\n"
          ]
        }
      ],
      "source": [
        "X_sm, y_sm = balance_classes(X, y)\n",
        "X_train, X_val, X_test, y_train, y_val, y_test = split_data(X_sm, y_sm)\n",
        "\n",
        "#pca = PCA(n_components=0.95)\n",
        "#X_train_pca = pca.fit_transform(X_train)\n",
        "#X_test_pca = pca.transform(X_test)\n",
        "\n",
        "label_encoder = LabelEncoder()\n",
        "\n",
        "X_train_scaled, X_test_scaled, scaler = scale_data(X_train, X_test)\n",
        "X_val_scaled = scaler.transform(X_val)\n",
        "\n",
        "y_train_encoded = label_encoder.fit_transform(y_train)\n",
        "y_val_encoded = label_encoder.transform(y_val)\n",
        "y_test_encoded = label_encoder.transform(y_test)\n"
      ]
    },
    {
      "cell_type": "code",
      "execution_count": null,
      "metadata": {
        "colab": {
          "base_uri": "https://localhost:8080/",
          "height": 34
        },
        "id": "RsUO4l52f6hv",
        "outputId": "f687b68b-b935-4bfa-a637-930c43934819"
      },
      "outputs": [
        {
          "output_type": "display_data",
          "data": {
            "text/plain": [
              "(1190281, 4)"
            ]
          },
          "metadata": {}
        }
      ],
      "source": [
        "display(X_train_scaled.shape)"
      ]
    },
    {
      "cell_type": "code",
      "execution_count": null,
      "metadata": {
        "id": "GUEpAIL8GCmt"
      },
      "outputs": [],
      "source": [
        "''' pipelines = {\n",
        "    'LightGBM': Pipeline([('classifier', LGBMClassifier(verbose=0, random_state=42, n_jobs=-1))]),\n",
        "    'CatBoost': Pipeline([('classifier', CatBoostClassifier(verbose=0, random_state=42))]),\n",
        "    'rf': Pipeline([('classifier', RandomForestClassifier(random_state=42, n_jobs=-1))]),\n",
        "    'knn': Pipeline([('classifier', KNeighborsClassifier(n_jobs=-1))]),\n",
        "    'dt': Pipeline([('classifier', DecisionTreeClassifier(random_state=42))]),\n",
        "}\n",
        "\n",
        "pipelines = {\n",
        "    'LightGBM': Pipeline([('classifier', LGBMClassifier(verbose=0, random_state=42, n_jobs=-1))]),\n",
        "    'CatBoost': Pipeline([('classifier', CatBoostClassifier(verbose=0, random_state=42))]),\n",
        "    'rf': Pipeline([('classifier', RandomForestClassifier(random_state=42, n_jobs=-1))]),\n",
        "    'knn': Pipeline([('classifier', KNeighborsClassifier(n_jobs=-1))]),\n",
        "    'dt': Pipeline([('classifier', DecisionTreeClassifier(random_state=42))]),\n",
        "    'RNN': PipelineWithFitParams([('classifier', rnn_model)])\n",
        "} '''"
      ]
    },
    {
      "cell_type": "code",
      "execution_count": null,
      "metadata": {
        "id": "1teuh19BA-30"
      },
      "outputs": [],
      "source": [
        "X_train_scaled_rnn = np.expand_dims(X_train_scaled, axis=2)\n",
        "X_test_scaled_rnn = np.expand_dims(X_test_scaled, axis=2)\n",
        "X_val_scaled_rnn = np.expand_dims(X_val_scaled, axis=2)\n",
        "\n",
        "input_shape = (X_train_scaled_rnn.shape[1], 1)\n",
        "num_classes = len(np.unique(y_train_encoded))\n",
        "\n",
        "rnn_model = KerasRNNClassifier(input_shape=input_shape, num_classes=num_classes)"
      ]
    },
    {
      "cell_type": "code",
      "source": [
        "display(X_train_scaled_rnn.shape, X_val_scaled_rnn.shape, X_test_scaled_rnn.shape)"
      ],
      "metadata": {
        "colab": {
          "base_uri": "https://localhost:8080/",
          "height": 69
        },
        "id": "2yDlX5lEAsOe",
        "outputId": "b4a54256-5f0e-4d56-b9d5-78420348ee3a"
      },
      "execution_count": null,
      "outputs": [
        {
          "output_type": "display_data",
          "data": {
            "text/plain": [
              "(1190281, 4, 1)"
            ]
          },
          "metadata": {}
        },
        {
          "output_type": "display_data",
          "data": {
            "text/plain": [
              "(132254, 4, 1)"
            ]
          },
          "metadata": {}
        },
        {
          "output_type": "display_data",
          "data": {
            "text/plain": [
              "(330634, 4, 1)"
            ]
          },
          "metadata": {}
        }
      ]
    },
    {
      "cell_type": "code",
      "source": [
        "print(input_shape, num_classes)"
      ],
      "metadata": {
        "colab": {
          "base_uri": "https://localhost:8080/"
        },
        "id": "SVqXef2ayMVM",
        "outputId": "3376c7a2-65b2-4445-bb87-ecdecb51289b"
      },
      "execution_count": null,
      "outputs": [
        {
          "output_type": "stream",
          "name": "stdout",
          "text": [
            "(4, 1) 7\n"
          ]
        }
      ]
    },
    {
      "cell_type": "code",
      "source": [
        "pipelines = {\n",
        "    'RNN': PipelineWithFitParams([('classifier', rnn_model)]),\n",
        "    'LightGBM': Pipeline([('classifier', LGBMClassifier(verbose=0, random_state=42, n_jobs=-1))]),\n",
        "    'CatBoost': Pipeline([('classifier', CatBoostClassifier(verbose=0, random_state=42))]),\n",
        "    'rf': Pipeline([('classifier', RandomForestClassifier(random_state=42, n_jobs=-1))]),\n",
        "    'knn': Pipeline([('classifier', KNeighborsClassifier(n_jobs=-1))]),\n",
        "    'dt': Pipeline([('classifier', DecisionTreeClassifier(random_state=42))]),\n",
        "}"
      ],
      "metadata": {
        "id": "1JRmZElE0o1y"
      },
      "execution_count": null,
      "outputs": []
    },
    {
      "cell_type": "code",
      "execution_count": null,
      "metadata": {
        "id": "YbgjvHuzJmbn"
      },
      "outputs": [],
      "source": [
        "best_f1_score = 0\n",
        "best_model_name = None\n",
        "best_model_pipeline = None"
      ]
    },
    {
      "cell_type": "code",
      "execution_count": null,
      "metadata": {
        "id": "NHSq3IaoJn9n"
      },
      "outputs": [],
      "source": [
        "for model_name, pipeline in pipelines.items():\n",
        "    if model_name == 'RNN':\n",
        "        validation_data = (X_val_scaled_rnn, y_val_encoded)\n",
        "        pipeline.fit(X_train_scaled_rnn, y_train_encoded, classifier__validation_data=validation_data)\n",
        "        y_pred_rnn = pipeline.predict(X_test_scaled_rnn)\n",
        "        f1_rnn = f1_score(y_test_encoded, y_pred_rnn, average='macro')\n",
        "        print(f\"RNN: Average F1-Score = {f1_rnn}\")\n",
        "        rnn_model.save('rnn_model.h5')\n",
        "    else:\n",
        "        pipeline.fit(X_train_scaled, y_train_encoded)\n",
        "        y_pred = pipeline.predict(X_test_scaled)\n",
        "        f1 = f1_score(y_test_encoded, y_pred, average='macro')\n",
        "        print(f\"{model_name}: Average F1-Score = {f1}\")\n",
        "\n",
        "print(f\"Best Model: {best_model_name} with F1-Score = {best_f1_score}\")"
      ]
    },
    {
      "cell_type": "code",
      "execution_count": null,
      "metadata": {
        "colab": {
          "base_uri": "https://localhost:8080/"
        },
        "id": "gioi0nQTKBQ0",
        "outputId": "39ef9fe2-d8d8-4260-c292-a1c9904e3364"
      },
      "outputs": [
        {
          "name": "stdout",
          "output_type": "stream",
          "text": [
            "Pipeline(steps=[('classifier',\n",
            "                 DecisionTreeClassifier(max_depth=18, min_samples_leaf=2,\n",
            "                                        min_samples_split=3,\n",
            "                                        random_state=42))]): Average F1-Score with new Hiperparameters = 0.7472522449081197\n"
          ]
        }
      ],
      "source": [
        "best_model_pipeline.fit(X_train_scaled, y_train_encoded)\n",
        "\n",
        "y_pred = best_model_pipeline.predict(X_test_scaled)\n",
        "f1 = f1_score(y_test_encoded, y_pred, average='macro')\n",
        "print(f\"{best_model_pipeline}: Average F1-Score with best model = {f1}\")"
      ]
    },
    {
      "cell_type": "code",
      "execution_count": null,
      "metadata": {
        "id": "d6PBYEv0GIC3"
      },
      "outputs": [],
      "source": [
        "def prepare_competition_data(filepath, preprocess_func, scaler):\n",
        "    df_competition = load_data(filepath)\n",
        "    consumer_numbers = df_competition['Consumer_number'].copy()\n",
        "    df_competition_processed = preprocess_func(df_competition, is_training_data=False)\n",
        "    df_competition_processed.drop('Consumer_number', axis=1, inplace=True)\n",
        "    X_competition_scaled = scaler.transform(df_competition_processed)\n",
        "    return X_competition_scaled, consumer_numbers"
      ]
    },
    {
      "cell_type": "code",
      "execution_count": null,
      "metadata": {
        "id": "8qlVy8BEHHuD"
      },
      "outputs": [],
      "source": [
        "def predict_and_export(model, X_competition_scaled, consumer_numbers, filename):\n",
        "    predictions = model.predict(X_competition_scaled)\n",
        "    results_df = pd.DataFrame({'Consumer_number': consumer_numbers, 'Consumer_type': predictions})\n",
        "    results_df.to_csv(filename, index=False)"
      ]
    },
    {
      "cell_type": "code",
      "execution_count": null,
      "metadata": {
        "id": "F59u6b7FKDA0"
      },
      "outputs": [],
      "source": [
        "X_competition, consumer_numbers = prepare_competition_data(\"https://raw.githubusercontent.com/luhenr/ML4DS/main/competition.csv\", preprocess_data, scaler)\n",
        "competition_predictions = best_model.predict(X_competition)\n",
        "competition_predictions = label_encoder.inverse_transform(competition_predictions)"
      ]
    },
    {
      "cell_type": "code",
      "execution_count": null,
      "metadata": {
        "id": "aIimIMFTKEUf"
      },
      "outputs": [],
      "source": [
        "results_df = pd.DataFrame({'Consumer_number': consumer_numbers, 'Consumer_type': competition_predictions})\n",
        "results_df.to_csv(\"competition_predictions.csv\", index=False)"
      ]
    }
  ],
  "metadata": {
    "colab": {
      "provenance": [],
      "gpuType": "T4"
    },
    "kernelspec": {
      "display_name": "Python 3",
      "name": "python3"
    },
    "language_info": {
      "name": "python"
    },
    "accelerator": "GPU"
  },
  "nbformat": 4,
  "nbformat_minor": 0
}